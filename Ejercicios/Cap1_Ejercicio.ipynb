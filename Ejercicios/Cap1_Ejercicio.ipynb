{
 "cells": [
  {
   "cell_type": "code",
   "execution_count": 1,
   "metadata": {},
   "outputs": [
    {
     "name": "stdout",
     "output_type": "stream",
     "text": [
      "Populating the interactive namespace from numpy and matplotlib\n"
     ]
    }
   ],
   "source": [
    "%pylab inline\n",
    "# from pylab import *"
   ]
  },
  {
   "cell_type": "markdown",
   "metadata": {},
   "source": [
    "## Ejemplo pag 15 -- Levine, Quantum Chemistry\n",
    "Una partícula en una dimensión está descrita por la siguiente función de onda al tiempo $t=0$,\n",
    "\n",
    "\\begin{eqnarray}\n",
    "\\displaystyle \\Psi(x,t=0)=\\frac{1}{\\sqrt{a}} e^{-|x|/a }\\,,\n",
    "\\end{eqnarray}\n",
    "\n",
    "donde $a =1.0000\\,{\\rm nm}$. Al tiempo $t=0$ se mide la posición de la partícula, \n",
    "\n",
    "(a) Encuentra la probabilida de encontrar a la partícula entre $x = 1.5000\\,{\\rm nm}$ y $x =1.5001\\,{\\rm nm}$."
   ]
  },
  {
   "cell_type": "code",
   "execution_count": 2,
   "metadata": {},
   "outputs": [
    {
     "name": "stdout",
     "output_type": "stream",
     "text": [
      "La función de onda cambia poco en dicho intervalo.\n",
      "\n",
      "Ψ(x=1.5001 nm,t=0) = 0.22311 1/nm\n",
      "\n",
      "Ψ(x=1.5000 nm,t=0) = 0.22313 1/nm\n",
      "\n",
      "Pr(1.5000<x<1.5001) = 0.0000050\n"
     ]
    }
   ],
   "source": [
    "print (\"La función de onda cambia poco en dicho intervalo.\\n\")\n",
    "\n",
    "a = 1.0     # nm\n",
    "\n",
    "x = 1.5001  # nm\n",
    "Ψ = (1/sqrt(a))*exp(-abs(x)/a)\n",
    "print (\"Ψ(x={0:.4f} nm,t=0) = {1:.5f} 1/nm\\n\".format(x,Ψ))\n",
    "\n",
    "x = 1.5000  # nm\n",
    "Ψ = (1/sqrt(a))*exp(-abs(x)/a)\n",
    "print (\"Ψ(x={0:.4f} nm,t=0) = {1:.5f} 1/nm\\n\".format(x,Ψ))\n",
    "\n",
    "dx = 1.5001 - 1.5000\n",
    "Pr = Ψ*Ψ*dx\n",
    "print (\"Pr(1.5000<x<1.5001) = {0:.7f}\".format(Pr))"
   ]
  },
  {
   "cell_type": "markdown",
   "metadata": {},
   "source": [
    "(b) Encuentre la probabilidad de medir la posición de la partícula en el intervalo $x=0$ y $x=2\\,{\\rm nm}$."
   ]
  },
  {
   "cell_type": "code",
   "execution_count": 3,
   "metadata": {},
   "outputs": [
    {
     "name": "stdout",
     "output_type": "stream",
     "text": [
      "Pr(0<x<2) = 0.4908\n"
     ]
    }
   ],
   "source": [
    "xmin = 0; xmax = 2\n",
    "x    = linspace(xmin,xmax,1000)\n",
    "Ψ    = (1/sqrt(a))*exp(-abs(x)/a)\n",
    "Ψ2   = Ψ*Ψ\n",
    "Int  = trapz(Ψ2,x)\n",
    "print (\"Pr(0<x<2) = {0:.4f}\".format(Int))"
   ]
  },
  {
   "cell_type": "markdown",
   "metadata": {},
   "source": [
    "(c) Verifique que $\\Psi$ está normalizada"
   ]
  },
  {
   "cell_type": "code",
   "execution_count": 4,
   "metadata": {},
   "outputs": [
    {
     "name": "stdout",
     "output_type": "stream",
     "text": [
      "Pr(-\\infty<x<\\infty) = 0.9999333\n"
     ]
    }
   ],
   "source": [
    "xmin = -1000; xmax = 1000\n",
    "x    = linspace(xmin,xmax,100000)\n",
    "Ψ    = (1/sqrt(a))*exp(-abs(x)/a)\n",
    "Ψ2   = Ψ*Ψ\n",
    "Pr   = trapz(Ψ2,x)\n",
    "print (\"Pr(-\\infty<x<\\infty) = {0:.7f}\".format(Pr))"
   ]
  },
  {
   "cell_type": "code",
   "execution_count": 5,
   "metadata": {},
   "outputs": [],
   "source": [
    "### Visualización de "
   ]
  },
  {
   "cell_type": "code",
   "execution_count": 6,
   "metadata": {},
   "outputs": [
    {
     "data": {
      "text/plain": [
       "[<matplotlib.lines.Line2D at 0x7f4200e64470>]"
      ]
     },
     "execution_count": 6,
     "metadata": {},
     "output_type": "execute_result"
    },
    {
     "data": {
      "image/png": "[encoded data removed]",
      "text/plain": [
       "<Figure size 432x288 with 1 Axes>"
      ]
     },
     "metadata": {},
     "output_type": "display_data"
    }
   ],
   "source": [
    "# En términos gráficos\n",
    "xmin = -5; xmax = 5\n",
    "x    = linspace(xmin,xmax,1000)\n",
    "Ψ    = (1/sqrt(a))*exp(-abs(x)/a)\n",
    "\n",
    "plot(x,Ψ)"
   ]
  },
  {
   "cell_type": "code",
   "execution_count": 7,
   "metadata": {},
   "outputs": [
    {
     "data": {
      "image/png": "[encoded data removed]",
      "text/plain": [
       "<Figure size 360x360 with 1 Axes>"
      ]
     },
     "metadata": {},
     "output_type": "display_data"
    }
   ],
   "source": [
    "fig,ax = plt.subplots(ncols=1,nrows=1,figsize=(5,5))\n",
    "\n",
    "ax.set_title(r\"Inciso (b)\")\n",
    "\n",
    "xmin = -5; xmax = 5\n",
    "x    = linspace(xmin,xmax,1000)\n",
    "Ψ    = (1/sqrt(a))*exp(-abs(x)/a)\n",
    "Ψ2   = Ψ*Ψ\n",
    "ax.plot(x,Ψ2,c='blue',alpha=0.8)\n",
    "\n",
    "x_a  = linspace(0.0,2.0)\n",
    "Ψ_a  = (1/sqrt(a))*exp(-abs(x_a)/a)\n",
    "Ψ2_a = Ψ_a*Ψ_a\n",
    "ax.fill_between(x_a,0,Ψ2_a,facecolor='red',alpha=0.6)\n",
    "\n",
    "fig.tight_layout()"
   ]
  },
  {
   "cell_type": "markdown",
   "metadata": {},
   "source": [
    "---"
   ]
  },
  {
   "cell_type": "markdown",
   "metadata": {},
   "source": [
    "## Ejercicio pag 15 -- Levine, Quantum Chemistry\n",
    "\n",
    "Considere un sistema cuya función de estado en el tiempo fijo es\n",
    "\\begin{eqnarray}\n",
    "\\Psi = \\bigg( \\frac{32 a^3}{\\pi} \\bigg)^{1/4} x e^{-ax^2}\\,,\n",
    "\\end{eqnarray}\n",
    "donde $a=1.0000\\,{\\rm nm^{-2}}$, encuentre la posición de que se encuentre la partícula en el intervalo $x=1.2000\\,{\\rm nm}$ y $x=1.2001\\,{\\rm nm}$. Trate el intervalo como infinitesimal."
   ]
  },
  {
   "cell_type": "code",
   "execution_count": 8,
   "metadata": {},
   "outputs": [
    {
     "name": "stdout",
     "output_type": "stream",
     "text": [
      "|Ψ|^2 dx = 0.0000258\n",
      "\n"
     ]
    }
   ],
   "source": [
    "a  = 1.0       # nm^-2\n",
    "x  = 1.2000\n",
    "dx = 1.2001 - x\n",
    "π  = pi\n",
    "Ψ  = ((32*a*a*a/π)**0.25 )*x*exp(-a*x*x)\n",
    "Ψ2 = Ψ*Ψ\n",
    "Pr = Ψ2*dx\n",
    "print (\"|Ψ|^2 dx = {0:.7f}\\n\".format(Pr))"
   ]
  },
  {
   "cell_type": "code",
   "execution_count": 9,
   "metadata": {},
   "outputs": [
    {
     "data": {
      "image/png": "[encoded data removed]",
      "text/plain": [
       "<Figure size 720x360 with 2 Axes>"
      ]
     },
     "metadata": {},
     "output_type": "display_data"
    }
   ],
   "source": [
    "fig,ax = plt.subplots(ncols=2,nrows=1,figsize=(10,5))\n",
    "\n",
    "ax[0].set_title(r\"Ejercicio pag 15\")\n",
    "\n",
    "xmin = -5; xmax = 5\n",
    "x    = linspace(xmin,xmax,1000)\n",
    "Ψ    = ((32*a*a*a/π)**0.25 )*x*exp(-a*x*x)\n",
    "Ψ2   = Ψ*Ψ\n",
    "ax[0].plot(x,Ψ,c='blue',alpha=0.8,label=r\"$\\Psi$\")\n",
    "ax[0].legend()\n",
    "\n",
    "ax[1].plot(x,Ψ2,c='blue',alpha=0.8,label=r\"$|\\Psi|^2$\")\n",
    "x_a  = linspace(1.20,1.3)    # El intervalo fue cambiado con fines de visualización\n",
    "Ψ_a  = ((32*a*a*a/π)**0.25 )*x_a*exp(-a*x_a*x_a)\n",
    "Ψ2_a = Ψ_a*Ψ_a\n",
    "ax[1].fill_between(x_a,0,Ψ2_a,facecolor='red',alpha=0.6)\n",
    "\n",
    "ax[1].legend()\n",
    "fig.tight_layout()"
   ]
  },
  {
   "cell_type": "code",
   "execution_count": null,
   "metadata": {},
   "outputs": [],
   "source": []
  },
  {
   "cell_type": "code",
   "execution_count": null,
   "metadata": {},
   "outputs": [],
   "source": []
  }
 ],
 "metadata": {
  "kernelspec": {
   "display_name": "Python 3",
   "language": "python",
   "name": "python3"
  },
  "language_info": {
   "codemirror_mode": {
    "name": "ipython",
    "version": 3
   },
   "file_extension": ".py",
   "mimetype": "text/x-python",
   "name": "python",
   "nbconvert_exporter": "python",
   "pygments_lexer": "ipython3",
   "version": "3.6.5"
  }
 },
 "nbformat": 4,
 "nbformat_minor": 2
}
