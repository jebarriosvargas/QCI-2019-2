{
 "cells": [
  {
   "cell_type": "code",
   "execution_count": 1,
   "metadata": {},
   "outputs": [
    {
     "name": "stdout",
     "output_type": "stream",
     "text": [
      "Populating the interactive namespace from numpy and matplotlib\n"
     ]
    }
   ],
   "source": [
    "%pylab inline"
   ]
  },
  {
   "cell_type": "code",
   "execution_count": 2,
   "metadata": {},
   "outputs": [
    {
     "name": "stdout",
     "output_type": "stream",
     "text": [
      "1.2941 THz\n",
      "231.6537 μm\n"
     ]
    }
   ],
   "source": [
    "c  = 299792458\n",
    "h  = 6.626e-34\n",
    "m  = 2.0e-29\n",
    "ℓ  = 4e-9\n",
    "nu = 3\n",
    "Eu = nu*nu*h*h/8/m/ℓ/ℓ\n",
    "nd = 2\n",
    "Ed = nd*nd*h*h/8/m/ℓ/ℓ\n",
    "ν  = (Eu-Ed)/h\n",
    "λ  = c/ν\n",
    "print ('{0:.4f} THz'.format(ν/1e12))\n",
    "print ('{0:.4f} μm'.format(λ/1e-6))"
   ]
  },
  {
   "cell_type": "code",
   "execution_count": 3,
   "metadata": {},
   "outputs": [
    {
     "data": {
      "text/plain": [
       "(1811796875000.0, 0.00016546692520374282)"
      ]
     },
     "execution_count": 3,
     "metadata": {},
     "output_type": "execute_result"
    }
   ],
   "source": [
    "\n",
    "def FrecuenciaLambda(nu,nd):\n",
    "    c  = 299792458\n",
    "    h  = 6.626e-34\n",
    "    m  = 2.0e-29\n",
    "    ℓ  = 4e-9\n",
    "    Eu = nu*nu*h*h/8/m/ℓ/ℓ\n",
    "    Ed = nd*nd*h*h/8/m/ℓ/ℓ\n",
    "    ν  = (Eu-Ed)/h\n",
    "    λ  = c/ν\n",
    "    # print ('{0:.4f} THz'.format(ν/1e12))\n",
    "    # print ('{0:.4f} μm'.format(λ/1e-6))\n",
    "    return ν,λ\n",
    "\n",
    "FrecuenciaLambda(4,3)"
   ]
  },
  {
   "cell_type": "code",
   "execution_count": 4,
   "metadata": {},
   "outputs": [],
   "source": [
    "nvals = np.arange(2,7)\n",
    "\n",
    "\n",
    "nl, ml, νl, λl = [],[],[],[]\n",
    "for n in nvals:\n",
    "    mvals = np.arange(1,n.max())\n",
    "    for m in mvals:\n",
    "        ν,λ = FrecuenciaLambda(n,m)\n",
    "        nl.append(n)\n",
    "        ml.append(m)\n",
    "        νl.append(ν/1e12) # THz\n",
    "        λl.append(λ/1e-6) # μm\n",
    "\n",
    "nl = array(nl)\n",
    "ml = array(ml)\n",
    "νl = array(νl)\n",
    "λl = array(λl)\n",
    "\n",
    "νmax = νl.max()"
   ]
  },
  {
   "cell_type": "code",
   "execution_count": 5,
   "metadata": {},
   "outputs": [],
   "source": [
    "# import seaborn as sns; sns.set()\n",
    "import matplotlib.cm as cmx\n",
    "import matplotlib.colors as colors\n"
   ]
  },
  {
   "cell_type": "code",
   "execution_count": 13,
   "metadata": {},
   "outputs": [
    {
     "data": {
      "image/png": "[encoded data removed]",
      "text/plain": [
       "<Figure size 1296x360 with 1 Axes>"
      ]
     },
     "metadata": {},
     "output_type": "display_data"
    }
   ],
   "source": [
    "fig,axes = plt.subplots(ncols=1,nrows=1,figsize=(18,5))\n",
    "\n",
    "jet = cm = plt.get_cmap('Reds') \n",
    "\n",
    "cNorm  = colors.Normalize(vmin=0, vmax=νmax)\n",
    "\n",
    "scalarMap = cmx.ScalarMappable(norm=cNorm, cmap=jet)\n",
    "\n",
    "for i in range(len(nl)):\n",
    "    colorVal  = scalarMap.to_rgba(νl[i])\n",
    "    axes.plot( [νl[i],νl[i]],[0,1], c=colorVal,lw=6 )\n",
    "    axes.annotate('({0:g},{1:g})'.format(nl[i],ml[i]), xy=(νl[i],1),xytext=(νl[i]-0.12,1.03),color='white',fontsize=14)\n",
    "axes.set_ylim(0,1.1)\n",
    "axes.set_yticks([])\n",
    "axes.set_facecolor('black')\n",
    "# axes.grid()\n",
    "xticks = arange(1,11)\n",
    "axes.set_xticks(xticks)\n",
    "axes.set_xticklabels( ['{0}'.format(x) for x in xticks ],fontsize=24 )\n",
    "axes.tick_params(axis='x', colors='black')\n",
    "axes.set_xlabel(r'$\\nu [THz]$',fontsize=26)\n",
    "fig.tight_layout()\n",
    "fig.savefig('espectro.pdf')"
   ]
  },
  {
   "cell_type": "code",
   "execution_count": 7,
   "metadata": {},
   "outputs": [
    {
     "data": {
      "text/plain": [
       "0.7764843749999999"
      ]
     },
     "execution_count": 7,
     "metadata": {},
     "output_type": "execute_result"
    }
   ],
   "source": [
    "νl.max()\n",
    "νl.min()"
   ]
  },
  {
   "cell_type": "code",
   "execution_count": null,
   "metadata": {},
   "outputs": [],
   "source": []
  },
  {
   "cell_type": "code",
   "execution_count": null,
   "metadata": {},
   "outputs": [],
   "source": []
  },
  {
   "cell_type": "code",
   "execution_count": null,
   "metadata": {},
   "outputs": [],
   "source": []
  }
 ],
 "metadata": {
  "kernelspec": {
   "display_name": "Python 3",
   "language": "python",
   "name": "python3"
  },
  "language_info": {
   "codemirror_mode": {
    "name": "ipython",
    "version": 3
   },
   "file_extension": ".py",
   "mimetype": "text/x-python",
   "name": "python",
   "nbconvert_exporter": "python",
   "pygments_lexer": "ipython3",
   "version": "3.5.2"
  }
 },
 "nbformat": 4,
 "nbformat_minor": 2
}
