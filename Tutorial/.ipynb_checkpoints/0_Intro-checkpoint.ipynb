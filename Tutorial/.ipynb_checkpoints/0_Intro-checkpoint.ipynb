{
 "cells": [
  {
   "cell_type": "markdown",
   "metadata": {},
   "source": [
    "# Python:\n",
    "es un lenguaje de programación interpretado.\n",
    "### Fortaleza\n",
    "* Baterías incluidas\n",
    "* Fácil de aprender\n",
    "* Código legible\n",
    "* Universal (multiplataformas)\n",
    "\n",
    "### Ambiente científico en python (módulos)\n",
    "Los módulos siguientes son los que forman el corazón del ambiente científico de python\n",
    "* numpy: arreglos numéricos.\n",
    "* scipy: métodos matemáticos de optimización, regresión lineal, interpolación, eigenvalores, etc.\n",
    "* matplotlib: visualización.\n",
    "El primer paso es cargar el ambiente científico con alguna de las siguientes instrucciones.\n",
    "```python\n",
    "from pylab import *\n",
    "```\n",
    "o en un notebook de jupyter\n",
    "```python\n",
    "%pylab inline\n",
    "```"
   ]
  },
  {
   "cell_type": "markdown",
   "metadata": {},
   "source": []
  },
  {
   "cell_type": "code",
   "execution_count": null,
   "metadata": {},
   "outputs": [],
   "source": []
  }
 ],
 "metadata": {
  "kernelspec": {
   "display_name": "Python 3",
   "language": "python",
   "name": "python3"
  },
  "language_info": {
   "codemirror_mode": {
    "name": "ipython",
    "version": 3
   },
   "file_extension": ".py",
   "mimetype": "text/x-python",
   "name": "python",
   "nbconvert_exporter": "python",
   "pygments_lexer": "ipython3",
   "version": "3.5.2"
  }
 },
 "nbformat": 4,
 "nbformat_minor": 2
}
