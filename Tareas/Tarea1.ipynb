{
 "cells": [
  {
   "cell_type": "code",
   "execution_count": 10,
   "metadata": {},
   "outputs": [
    {
     "name": "stdout",
     "output_type": "stream",
     "text": [
      "Populating the interactive namespace from numpy and matplotlib\n"
     ]
    },
    {
     "name": "stderr",
     "output_type": "stream",
     "text": [
      "/home/jebarrios/.local/lib/python3.5/site-packages/IPython/core/magics/pylab.py:160: UserWarning: pylab import has clobbered these variables: ['norm']\n",
      "`%matplotlib` prevents importing * from pylab and numpy\n",
      "  \"\\n`%matplotlib` prevents importing * from pylab and numpy\"\n"
     ]
    }
   ],
   "source": [
    "%pylab inline\n",
    "import seaborn as sns\n",
    "from ipywidgets import *"
   ]
  },
  {
   "cell_type": "markdown",
   "metadata": {},
   "source": [
    "## Ejercicio 5\n",
    "Un pozo de potencial unidimensional de anchura $a$ y profundidad infinita contiene electrones: en un momento dado, la densidad de probabilidad es triangular y simétrica, como se ilustra en la figura. (a) Determine la constante de normalización y el máximo valor de dicha densidad. (b) Exprese la función de onda en términos de las eigenfunciones del pozo infinito. ¿Esperaría que el estado descrito por la densidad de probabilidad triangular fuera estacionario? ¿Por qué?\n",
    "\n",
    "<img src=\"BoxParticle.png\" alt=\"Densidad de probabilidad\" style=\"width: 400px;\"/>\n"
   ]
  },
  {
   "cell_type": "code",
   "execution_count": 4,
   "metadata": {},
   "outputs": [
    {
     "name": "stdout",
     "output_type": "stream",
     "text": [
      "Int|ψ|^2 = 1.0000\n"
     ]
    }
   ],
   "source": [
    "ngrid    = 10000\n",
    "π        = pi\n",
    "ℓ        = 1.0            # nm\n",
    "x        = linspace(0.0,ℓ,ngrid)\n",
    "ψ        = 2/ℓ*sqrt(x)\n",
    "index    = x>ℓ/2\n",
    "ψ[index] = 2/ℓ*sqrt(ℓ-x[index])\n",
    "ψ2       = ψ*ψ\n",
    "norm     = trapz(ψ2,x)\n",
    "\n",
    "print (\"Int|ψ|^2 = {0:.4f}\".format(norm))"
   ]
  },
  {
   "cell_type": "markdown",
   "metadata": {},
   "source": [
    "## Soluciones de una partícula en una caja"
   ]
  },
  {
   "cell_type": "code",
   "execution_count": 5,
   "metadata": {},
   "outputs": [],
   "source": [
    "cn = []\n",
    "for n in range(1,5):\n",
    "    ϕn = sqrt(2/ℓ)*sin(n*π*x/ℓ)\n",
    "    cn.append( trapz(ψ*ϕn,x) )"
   ]
  },
  {
   "cell_type": "code",
   "execution_count": 6,
   "metadata": {},
   "outputs": [
    {
     "name": "stdout",
     "output_type": "stream",
     "text": [
      "Int|Proy|^2 = 0.9922\n"
     ]
    }
   ],
   "source": [
    "Proy = zeros(ngrid)\n",
    "for n in range(1,5):\n",
    "    ϕn    = sqrt(2/ℓ)*sin(n*π*x/ℓ)\n",
    "    Proy += cn[n-1]*ϕn\n",
    "    \n",
    "Proy2    = Proy*Proy\n",
    "norm     = trapz(Proy2,x)\n",
    "print (\"Int|Proy|^2 = {0:.4f}\".format(norm))"
   ]
  },
  {
   "cell_type": "code",
   "execution_count": 7,
   "metadata": {},
   "outputs": [
    {
     "data": {
      "text/plain": [
       "[<matplotlib.lines.Line2D at 0x7fbb9f0d2f28>]"
      ]
     },
     "execution_count": 7,
     "metadata": {},
     "output_type": "execute_result"
    },
    {
     "data": {
      "image/png": "[encoded data removed]",
      "text/plain": [
       "<Figure size 432x288 with 1 Axes>"
      ]
     },
     "metadata": {},
     "output_type": "display_data"
    }
   ],
   "source": [
    "plot(x,ψ)\n",
    "plot(x,Proy)"
   ]
  },
  {
   "cell_type": "markdown",
   "metadata": {},
   "source": [
    "## Using interactive"
   ]
  },
  {
   "cell_type": "code",
   "execution_count": 40,
   "metadata": {},
   "outputs": [],
   "source": [
    "nbase = 20\n",
    "cn = []\n",
    "for n in range(1,nbase):\n",
    "    ϕn = sqrt(2/ℓ)*sin(n*π*x/ℓ)\n",
    "    cn.append( trapz(ψ*ϕn,x) )"
   ]
  },
  {
   "cell_type": "code",
   "execution_count": 41,
   "metadata": {},
   "outputs": [
    {
     "name": "stdout",
     "output_type": "stream",
     "text": [
      "Int|Proy|^2 = 0.9997\n"
     ]
    }
   ],
   "source": [
    "Proy_n = []\n",
    "Proy   = zeros(ngrid)\n",
    "for n in range(1,nbase):\n",
    "    ϕn    = sqrt(2/ℓ)*sin(n*π*x/ℓ)\n",
    "    Proy += cn[n-1]*ϕn\n",
    "    Proy_n.append(array(Proy))\n",
    "    \n",
    "Proy_n   = array(Proy_n)\n",
    "Proy2    = Proy*Proy\n",
    "norm     = trapz(Proy2,x)\n",
    "\n",
    "print (\"Int|Proy|^2 = {0:.4f}\".format(norm))"
   ]
  },
  {
   "cell_type": "code",
   "execution_count": 43,
   "metadata": {},
   "outputs": [
    {
     "data": {
      "application/vnd.jupyter.widget-view+json": {
       "model_id": "d4324ac499574031899e61e88124891a",
       "version_major": 2,
       "version_minor": 0
      },
      "text/html": [
       "<p>Failed to display Jupyter Widget of type <code>interactive</code>.</p>\n",
       "<p>\n",
       "  If you're reading this message in the Jupyter Notebook or JupyterLab Notebook, it may mean\n",
       "  that the widgets JavaScript is still loading. If this message persists, it\n",
       "  likely means that the widgets JavaScript library is either not installed or\n",
       "  not enabled. See the <a href=\"https://ipywidgets.readthedocs.io/en/stable/user_install.html\">Jupyter\n",
       "  Widgets Documentation</a> for setup instructions.\n",
       "</p>\n",
       "<p>\n",
       "  If you're reading this message in another frontend (for example, a static\n",
       "  rendering on GitHub or <a href=\"https://nbviewer.jupyter.org/\">NBViewer</a>),\n",
       "  it may mean that your frontend doesn't currently support widgets.\n",
       "</p>\n"
      ],
      "text/plain": [
       "interactive(children=(IntSlider(value=1, description='n', max=19, min=1), Output()), _dom_classes=('widget-interact',))"
      ]
     },
     "metadata": {},
     "output_type": "display_data"
    }
   ],
   "source": [
    "@interact(n=(1,nbase-1))\n",
    "def Series(n=1):\n",
    "    fig,axes = plt.subplots(ncols=2,nrows=1,figsize=(16,5))\n",
    "    \n",
    "    nval = arange(len(cn))+1\n",
    "    axes[0].scatter(nval+1,cn)\n",
    "    axes[0].set_yscale('log')\n",
    "    axes[0].set_ylim(1e-7,1e2)\n",
    "    axes[0].scatter(nval[n],cn[n-1])\n",
    "\n",
    "    axes[0].set_xlim(0,nbase+1)\n",
    "    \n",
    "    axes[1].plot(x,ψ)\n",
    "    axes[1].plot(x,Proy_n[n-1],label='{0}'.format(n))\n",
    "    \n",
    "    return"
   ]
  },
  {
   "cell_type": "code",
   "execution_count": null,
   "metadata": {},
   "outputs": [],
   "source": []
  },
  {
   "cell_type": "code",
   "execution_count": null,
   "metadata": {},
   "outputs": [],
   "source": []
  }
 ],
 "metadata": {
  "kernelspec": {
   "display_name": "Python 3",
   "language": "python",
   "name": "python3"
  },
  "language_info": {
   "codemirror_mode": {
    "name": "ipython",
    "version": 3
   },
   "file_extension": ".py",
   "mimetype": "text/x-python",
   "name": "python",
   "nbconvert_exporter": "python",
   "pygments_lexer": "ipython3",
   "version": "3.5.2"
  }
 },
 "nbformat": 4,
 "nbformat_minor": 2
}
